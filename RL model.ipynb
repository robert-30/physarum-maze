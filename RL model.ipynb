{
 "cells": [
  {
   "cell_type": "code",
   "execution_count": 30,
   "metadata": {
    "scrolled": true
   },
   "outputs": [],
   "source": [
    "import numpy as np\n",
    "import random\n",
    "import matplotlib.pyplot as plt\n",
    "from tqdm.notebook import tqdm\n",
    "%matplotlib inline"
   ]
  },
  {
   "cell_type": "code",
   "execution_count": 31,
   "metadata": {},
   "outputs": [],
   "source": [
    "# 1. Randomly initialize all D_ij\n",
    "# 2. Set p_T = 0\n",
    "# 3. Deduce all other p_i\n",
    "# 4. Calculate Q_ij\n",
    "# 5. t = t+1"
   ]
  },
  {
   "cell_type": "code",
   "execution_count": 32,
   "metadata": {},
   "outputs": [],
   "source": [
    "# constants\n",
    "\n",
    "# note: node 0 is source, node N is sink\n",
    "N = 6\n",
    "delta = 0.1\n",
    "n_sim = 100\n",
    "I_0 = 1.0\n",
    "INF = 1e9\n",
    "mu = 2\n",
    "\n",
    "maze = [\n",
    "    [1, 1, 1, 1, 1, 1, 1, 1, 1, 1, 1, 1, 1, 1, 1, 1, 1, 1],\n",
    "    [1, 0, 0, 0, 0, 0, 0, 0, 0, 0, 0, 0, 0, 0, 0, 0, 0, 1],\n",
    "    [1, 0, 1, 1, 1, 1, 1, 1, 1, 1, 0, 1, 0, 1, 0, 1, 0, 1],\n",
    "    [1, 0, 1, 0, 0, 0, 0, 0, 0, 0, 0, 1, 0, 1, 0, 1, 0, 1],\n",
    "    [1, 0, 1, 0, 1, 1, 1, 1, 1, 1, 1, 1, 0, 1, 0, 1, 0, 1],\n",
    "    [1, 0, 1, 0, 1, 0, 0, 0, 0, 0, 0, 0, 0, 1, 0, 1, 0, 1],\n",
    "    [1, 0, 1, 0, 1, 0, 1, 1, 1, 1, 1, 1, 0, 1, 0, 1, 0, 1],\n",
    "    [1, 0, 1, 0, 1, 0, 0, 0, 0, 0, 0, 1, 0, 1, 0, 1, 0, 1],\n",
    "    [1, 0, 0, 0, 1, 1, 1, 1, 1, 1, 0, 1, 0, 1, 1, 1, 0, 1],\n",
    "    [1, 0, 1, 0, 1, 0, 0, 0, 0, 0, 0, 1, 0, 1, 0, 1, 0, 1],\n",
    "    [1, 0, 1, 0, 1, 1, 0, 1, 0, 1, 1, 1, 0, 1, 0, 1, 0, 1],\n",
    "    [1, 0, 1, 0, 1, 0, 0, 1, 0, 1, 0, 0, 0, 1, 0, 0, 0, 1],\n",
    "    [1, 0, 1, 0, 1, 1, 0, 1, 0, 1, 0, 1, 1, 1, 0, 1, 0, 1],\n",
    "    [1, 0, 1, 0, 1, 0, 0, 1, 0, 1, 0, 0, 0, 0, 0, 1, 0, 1],\n",
    "    [1, 0, 1, 0, 1, 0, 1, 1, 1, 1, 1, 1, 1, 1, 0, 1, 0, 1],\n",
    "    [1, 0, 1, 0, 1, 0, 0, 0, 1, 0, 0, 0, 0, 0, 0, 1, 0, 1],\n",
    "    [1, 0, 1, 1, 1, 1, 1, 1, 1, 0, 1, 1, 1, 1, 1, 1, 1, 1]\n",
    "]\n",
    "\n",
    "L = np.array([\n",
    "    [INF, 1.4, 1.0, INF, INF, INF],\n",
    "    [1.4, INF, 1, 2.24, INF, INF],\n",
    "    [1, 1, INF, 2, 2.24, INF],\n",
    "    [INF, 2.24, 2, INF, 1, 1],\n",
    "    [INF, INF, 2.24, 1, INF, 1.4],\n",
    "    [INF, INF, INF, 1, 1.4, INF]\n",
    "])\n",
    "\n",
    "def f(x):\n",
    "    return x**mu"
   ]
  },
  {
   "cell_type": "code",
   "execution_count": 33,
   "metadata": {},
   "outputs": [],
   "source": [
    "def maze_to_graph(maze):\n",
    "    global INF\n",
    "    N = 0\n",
    "    mc = maze\n",
    "    start = (INF, INF)\n",
    "    end = (INF, INF)\n",
    "    \n",
    "    ind_N = 1\n",
    "    ind = np.zeros((len(maze), len(maze[0])))-1\n",
    "    \n",
    "    for x in range(len(maze)):\n",
    "        for y in range(len(maze[0])):\n",
    "            if(maze[x][y]==0):\n",
    "                N = N+1\n",
    "                \n",
    "                if x==0 or y==0 or x==len(maze)-1 or y==len(maze[0])-1:\n",
    "                    if start[0] == INF:\n",
    "                        start = (x, y)\n",
    "                        ind[x][y] = 0\n",
    "                    else:\n",
    "                        end = (x, y)\n",
    "                else:\n",
    "                    ind[x][y] = ind_N\n",
    "                    ind_N = ind_N+1\n",
    "    \n",
    "    L = INF * np.ones((N, N))\n",
    "    ind[end[0]][end[1]] = N-1\n",
    "    for i in range(len(maze)):\n",
    "        for j in range(len(maze[0])):\n",
    "            if ind[i][j]!=-1:\n",
    "                for (dx, dy) in [(1, 0), (-1, 0), (0, 1), (0, -1)]:\n",
    "                    x = i + dx\n",
    "                    y = j + dy\n",
    "                    if 0 <= x and x < len(maze) and 0 <= y and y < len(maze[0]):\n",
    "                        if maze[x][y] == 0:\n",
    "                            L[int(ind[i][j])][int(ind[x][y])] = 1\n",
    "    return (N, L)\n",
    "(N, L) = maze_to_graph(maze)"
   ]
  },
  {
   "cell_type": "code",
   "execution_count": 34,
   "metadata": {},
   "outputs": [],
   "source": [
    "# verify matrix is symmetric\n",
    "for i in range(N):\n",
    "    for j in range(N):\n",
    "        if L[i][j] != L[j][i]:\n",
    "            raise Exception('Graph is not symmetric')\n",
    "        if i==j and L[i][j]!=INF:\n",
    "            raise Exception('Diagonal is not zeroes')\n",
    "\n",
    "D = np.zeros((N, N))\n",
    "\n",
    "for i in range(N):\n",
    "    for j in range(N):\n",
    "        if L[i][j] < INF and j>i:\n",
    "            D[i][j] = random.uniform(0.5, 1)\n",
    "        elif i>j:\n",
    "            D[i][j] = D[j][i]\n",
    "        else:\n",
    "            D[i][j] = 0"
   ]
  },
  {
   "cell_type": "code",
   "execution_count": 35,
   "metadata": {},
   "outputs": [],
   "source": [
    "def show(maze, D, p):\n",
    "    global INF\n",
    "    \n",
    "    N = D.shape[0]\n",
    "    arr = -1*np.ones((len(maze), len(maze[0])))\n",
    "    maze_big = -1*np.ones((len(maze)*2-1, len(maze[0])*2-1))\n",
    "    start = (INF, INF)\n",
    "    end = (INF, INF)\n",
    "    ind_N = 1\n",
    "    for x in range(len(maze)):\n",
    "        for y in range(len(maze[0])):\n",
    "            if(maze[x][y]==0):                \n",
    "                if x==0 or y==0 or x==len(maze)-1 or y==len(maze[0])-1:\n",
    "                    if start[0] == INF:\n",
    "                        start = (x, y)\n",
    "                        arr[x][y] = 0\n",
    "                    else:\n",
    "                        arr[x][y] = N-1\n",
    "                else:\n",
    "                    arr[x][y] = ind_N\n",
    "                    ind_N = ind_N+1\n",
    "\n",
    "    for x in range(len(maze)):\n",
    "        for y in range(len(maze[0])):\n",
    "            tot = 0\n",
    "            cnt = 0\n",
    "            for (dx, dy) in [(1, 0), (-1, 0), (0, 1), (0, -1)]:\n",
    "                xc = x + dx\n",
    "                yc = y + dy\n",
    "\n",
    "                if 0 <= xc and xc < len(maze) and 0 <= yc and yc < len(maze[0]):\n",
    "                    if arr[x][y] != -1 and arr[xc][yc]!=-1:\n",
    "                        maze_big[2*x+dx][2*y+dy] = D[int(arr[x][y])][int(arr[xc][yc])]\n",
    "                        tot += maze_big[2*x+dx][2*y+dy]\n",
    "                        cnt += 1\n",
    "            if arr[x][y] != -1:\n",
    "                maze_big[2*x][2*y] = tot/cnt\n",
    "    maze_big = maze_big/np.amax(maze_big)\n",
    "    return maze_big"
   ]
  },
  {
   "cell_type": "code",
   "execution_count": 36,
   "metadata": {},
   "outputs": [],
   "source": [
    "def constraint(C, j):\n",
    "    constr = np.zeros((N,))\n",
    "    for i in range(N):\n",
    "        if C[i][j] > 0:\n",
    "            constr[i] += C[i][j]\n",
    "            constr[j] -= C[i][j]\n",
    "    return constr\n",
    "\n",
    "def solve_pressure(D):\n",
    "    lineq = np.zeros((N, N))\n",
    "    dep = np.zeros((N,))\n",
    "     \n",
    "    C = D/L\n",
    "    \n",
    "    # add source constraint \\sum_{i\\in V(0)} Q_i = \\sum_{i\\in V(0)} C_i0 (p_i-p_0) = -I_0\n",
    "    lineq[0] = constraint(C, 0)\n",
    "    dep[0] = -I_0\n",
    "    \n",
    "    lineq[N-1] = constraint(C, N-1)\n",
    "    dep[N-1] = I_0\n",
    "    \n",
    "    \n",
    "    for j in range(1, N-1):\n",
    "        lineq[j] = constraint(C, j)\n",
    "        \n",
    "#    print(lineq @ np.array([ 1.44939475,  0.51167369,  0.42142306, -0.54948685, -0.52652166,\n",
    "#       -1.30648298]))\n",
    "    p = np.linalg.lstsq(np.array(lineq), np.array(dep), rcond=None)[0]\n",
    "    Q = np.zeros((N, N))\n",
    "    for i in range(N):\n",
    "        for j in range(N):\n",
    "            Q[i][j] = C[i][j]*(p[i]-p[j])\n",
    "    return (p, Q)"
   ]
  },
  {
   "cell_type": "code",
   "execution_count": 37,
   "metadata": {},
   "outputs": [],
   "source": [
    "Q = solve_pressure(D)[1]"
   ]
  },
  {
   "cell_type": "code",
   "execution_count": 38,
   "metadata": {
    "scrolled": false
   },
   "outputs": [
    {
     "data": {
      "image/png": "[encoded data removed]",
      "text/plain": [
       "<Figure size 432x288 with 1 Axes>"
      ]
     },
     "metadata": {
      "needs_background": "light"
     },
     "output_type": "display_data"
    },
    {
     "data": {
      "application/vnd.jupyter.widget-view+json": {
       "model_id": "a6e5bf759ad84f599421ac4013c4033d",
       "version_major": 2,
       "version_minor": 0
      },
      "text/plain": [
       "HBox(children=(FloatProgress(value=0.0, max=1000.0), HTML(value='')))"
      ]
     },
     "metadata": {},
     "output_type": "display_data"
    },
    {
     "data": {
      "image/png": "[encoded data removed]",
      "text/plain": [
       "<Figure size 432x288 with 1 Axes>"
      ]
     },
     "metadata": {
      "needs_background": "light"
     },
     "output_type": "display_data"
    },
    {
     "data": {
      "image/png": "[encoded data removed]",
      "text/plain": [
       "<Figure size 432x288 with 1 Axes>"
      ]
     },
     "metadata": {
      "needs_background": "light"
     },
     "output_type": "display_data"
    },
    {
     "data": {
      "image/png": "[encoded data removed]",
      "text/plain": [
       "<Figure size 432x288 with 1 Axes>"
      ]
     },
     "metadata": {
      "needs_background": "light"
     },
     "output_type": "display_data"
    },
    {
     "data": {
      "image/png": "[encoded data removed]",
      "text/plain": [
       "<Figure size 432x288 with 1 Axes>"
      ]
     },
     "metadata": {
      "needs_background": "light"
     },
     "output_type": "display_data"
    },
    {
     "data": {
      "image/png": "[encoded data removed]",
      "text/plain": [
       "<Figure size 432x288 with 1 Axes>"
      ]
     },
     "metadata": {
      "needs_background": "light"
     },
     "output_type": "display_data"
    },
    {
     "data": {
      "image/png": "[encoded data removed]",
      "text/plain": [
       "<Figure size 432x288 with 1 Axes>"
      ]
     },
     "metadata": {
      "needs_background": "light"
     },
     "output_type": "display_data"
    },
    {
     "data": {
      "image/png": "[encoded data removed]",
      "text/plain": [
       "<Figure size 432x288 with 1 Axes>"
      ]
     },
     "metadata": {
      "needs_background": "light"
     },
     "output_type": "display_data"
    },
    {
     "name": "stdout",
     "output_type": "stream",
     "text": [
      "\n"
     ]
    },
    {
     "ename": "KeyboardInterrupt",
     "evalue": "",
     "output_type": "error",
     "traceback": [
      "\u001b[0;31m---------------------------------------------------------------------------\u001b[0m",
      "\u001b[0;31mKeyboardInterrupt\u001b[0m                         Traceback (most recent call last)",
      "\u001b[0;32m<ipython-input-38-d862ca981d73>\u001b[0m in \u001b[0;36m<module>\u001b[0;34m\u001b[0m\n\u001b[1;32m      5\u001b[0m     \u001b[0mdelta_D\u001b[0m \u001b[0;34m=\u001b[0m \u001b[0mf\u001b[0m\u001b[0;34m(\u001b[0m\u001b[0mabs\u001b[0m\u001b[0;34m(\u001b[0m\u001b[0mQ\u001b[0m\u001b[0;34m)\u001b[0m\u001b[0;34m)\u001b[0m \u001b[0;34m-\u001b[0m \u001b[0mD\u001b[0m\u001b[0;34m\u001b[0m\u001b[0;34m\u001b[0m\u001b[0m\n\u001b[1;32m      6\u001b[0m     \u001b[0mD\u001b[0m \u001b[0;34m=\u001b[0m \u001b[0mD\u001b[0m \u001b[0;34m+\u001b[0m \u001b[0mdelta\u001b[0m \u001b[0;34m*\u001b[0m \u001b[0mdelta_D\u001b[0m\u001b[0;34m\u001b[0m\u001b[0;34m\u001b[0m\u001b[0m\n\u001b[0;32m----> 7\u001b[0;31m     \u001b[0mQ\u001b[0m \u001b[0;34m=\u001b[0m \u001b[0msolve_pressure\u001b[0m\u001b[0;34m(\u001b[0m\u001b[0mD\u001b[0m\u001b[0;34m)\u001b[0m\u001b[0;34m[\u001b[0m\u001b[0;36m1\u001b[0m\u001b[0;34m]\u001b[0m\u001b[0;34m\u001b[0m\u001b[0;34m\u001b[0m\u001b[0m\n\u001b[0m\u001b[1;32m      8\u001b[0m     \u001b[0;32mif\u001b[0m \u001b[0mi\u001b[0m \u001b[0;34m%\u001b[0m \u001b[0;36m10\u001b[0m \u001b[0;34m==\u001b[0m \u001b[0;36m0\u001b[0m\u001b[0;34m:\u001b[0m\u001b[0;34m\u001b[0m\u001b[0;34m\u001b[0m\u001b[0m\n\u001b[1;32m      9\u001b[0m         \u001b[0mplt\u001b[0m\u001b[0;34m.\u001b[0m\u001b[0mtitle\u001b[0m\u001b[0;34m(\u001b[0m\u001b[0;34m'Iterations: '\u001b[0m \u001b[0;34m+\u001b[0m \u001b[0mstr\u001b[0m\u001b[0;34m(\u001b[0m\u001b[0mi\u001b[0m\u001b[0;34m)\u001b[0m\u001b[0;34m)\u001b[0m\u001b[0;34m\u001b[0m\u001b[0;34m\u001b[0m\u001b[0m\n",
      "\u001b[0;32m<ipython-input-36-03347a5787de>\u001b[0m in \u001b[0;36msolve_pressure\u001b[0;34m(D)\u001b[0m\n\u001b[1;32m     30\u001b[0m     \u001b[0;32mfor\u001b[0m \u001b[0mi\u001b[0m \u001b[0;32min\u001b[0m \u001b[0mrange\u001b[0m\u001b[0;34m(\u001b[0m\u001b[0mN\u001b[0m\u001b[0;34m)\u001b[0m\u001b[0;34m:\u001b[0m\u001b[0;34m\u001b[0m\u001b[0;34m\u001b[0m\u001b[0m\n\u001b[1;32m     31\u001b[0m         \u001b[0;32mfor\u001b[0m \u001b[0mj\u001b[0m \u001b[0;32min\u001b[0m \u001b[0mrange\u001b[0m\u001b[0;34m(\u001b[0m\u001b[0mN\u001b[0m\u001b[0;34m)\u001b[0m\u001b[0;34m:\u001b[0m\u001b[0;34m\u001b[0m\u001b[0;34m\u001b[0m\u001b[0m\n\u001b[0;32m---> 32\u001b[0;31m             \u001b[0mQ\u001b[0m\u001b[0;34m[\u001b[0m\u001b[0mi\u001b[0m\u001b[0;34m]\u001b[0m\u001b[0;34m[\u001b[0m\u001b[0mj\u001b[0m\u001b[0;34m]\u001b[0m \u001b[0;34m=\u001b[0m \u001b[0mC\u001b[0m\u001b[0;34m[\u001b[0m\u001b[0mi\u001b[0m\u001b[0;34m]\u001b[0m\u001b[0;34m[\u001b[0m\u001b[0mj\u001b[0m\u001b[0;34m]\u001b[0m\u001b[0;34m*\u001b[0m\u001b[0;34m(\u001b[0m\u001b[0mp\u001b[0m\u001b[0;34m[\u001b[0m\u001b[0mi\u001b[0m\u001b[0;34m]\u001b[0m\u001b[0;34m-\u001b[0m\u001b[0mp\u001b[0m\u001b[0;34m[\u001b[0m\u001b[0mj\u001b[0m\u001b[0;34m]\u001b[0m\u001b[0;34m)\u001b[0m\u001b[0;34m\u001b[0m\u001b[0;34m\u001b[0m\u001b[0m\n\u001b[0m\u001b[1;32m     33\u001b[0m     \u001b[0;32mreturn\u001b[0m \u001b[0;34m(\u001b[0m\u001b[0mp\u001b[0m\u001b[0;34m,\u001b[0m \u001b[0mQ\u001b[0m\u001b[0;34m)\u001b[0m\u001b[0;34m\u001b[0m\u001b[0;34m\u001b[0m\u001b[0m\n",
      "\u001b[0;31mKeyboardInterrupt\u001b[0m: "
     ]
    }
   ],
   "source": [
    "fg = plt.imshow(show(maze, D, solve_pressure(D)[0]))\n",
    "plt.show(block=False)\n",
    "plt.pause(1)\n",
    "for i in tqdm(range(1000)):\n",
    "    delta_D = f(abs(Q)) - D\n",
    "    D = D + delta * delta_D\n",
    "    Q = solve_pressure(D)[1]\n",
    "    if i % 10 == 0:\n",
    "        plt.title('Iterations: ' + str(i))\n",
    "        fg.set_data(show(maze, D, solve_pressure(D)[0]))\n",
    "        plt.draw()\n",
    "        plt.pause(0.001)"
   ]
  },
  {
   "cell_type": "code",
   "execution_count": 25,
   "metadata": {},
   "outputs": [
    {
     "data": {
      "text/plain": [
       "<matplotlib.colorbar.Colorbar at 0x7f68e0dee978>"
      ]
     },
     "execution_count": 25,
     "metadata": {},
     "output_type": "execute_result"
    },
    {
     "data": {
      "image/png": "[encoded data removed]",
      "text/plain": [
       "<Figure size 432x288 with 2 Axes>"
      ]
     },
     "metadata": {
      "needs_background": "light"
     },
     "output_type": "display_data"
    }
   ],
   "source": [
    "plt.imshow(show(maze, D, solve_pressure(D)[0]))\n",
    "plt.colorbar()"
   ]
  },
  {
   "cell_type": "code",
   "execution_count": 44,
   "metadata": {},
   "outputs": [
    {
     "data": {
      "image/png": "[encoded data removed]",
      "text/plain": [
       "<Figure size 432x288 with 1 Axes>"
      ]
     },
     "metadata": {
      "needs_background": "light"
     },
     "output_type": "display_data"
    }
   ],
   "source": [
    "show(maze, solve_pressure(D)[1], solve_pressure(D)[0])"
   ]
  },
  {
   "cell_type": "code",
   "execution_count": 45,
   "metadata": {},
   "outputs": [
    {
     "data": {
      "text/plain": [
       "array([[0., 0., 0., ..., 0., 0., 0.],\n",
       "       [0., 0., 0., ..., 0., 0., 0.],\n",
       "       [0., 0., 0., ..., 0., 0., 0.],\n",
       "       ...,\n",
       "       [0., 0., 0., ..., 0., 0., 0.],\n",
       "       [0., 0., 0., ..., 0., 0., 0.],\n",
       "       [0., 0., 0., ..., 0., 0., 0.]])"
      ]
     },
     "execution_count": 45,
     "metadata": {},
     "output_type": "execute_result"
    }
   ],
   "source": [
    "D"
   ]
  },
  {
   "cell_type": "code",
   "execution_count": 187,
   "metadata": {},
   "outputs": [
    {
     "data": {
      "image/png": "[encoded data removed]",
      "text/plain": [
       "<Figure size 432x288 with 1 Axes>"
      ]
     },
     "metadata": {
      "needs_background": "light"
     },
     "output_type": "display_data"
    }
   ],
   "source": [
    "fig = plt.imshow(show(maze, D, solve_pressure(D)[0]))\n",
    "fig.set_data(show(maze, D, solve_pressure(D)[0]))\n",
    "plt.draw()"
   ]
  },
  {
   "cell_type": "code",
   "execution_count": null,
   "metadata": {},
   "outputs": [],
   "source": []
  },
  {
   "cell_type": "code",
   "execution_count": null,
   "metadata": {},
   "outputs": [],
   "source": []
  }
 ],
 "metadata": {
  "kernelspec": {
   "display_name": "Python 3",
   "language": "python",
   "name": "python3"
  }
 },
 "nbformat": 4,
 "nbformat_minor": 4
}
